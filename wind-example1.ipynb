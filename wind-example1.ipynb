{
 "cells": [
  {
   "cell_type": "code",
   "execution_count": 6,
   "id": "a6afab1f",
   "metadata": {},
   "outputs": [
    {
     "ename": "ValueError",
     "evalue": "'2025-07-03T20:00' is not in list",
     "output_type": "error",
     "traceback": [
      "\u001b[31m---------------------------------------------------------------------------\u001b[39m",
      "\u001b[31mValueError\u001b[39m                                Traceback (most recent call last)",
      "\u001b[36mCell\u001b[39m\u001b[36m \u001b[39m\u001b[32mIn[6]\u001b[39m\u001b[32m, line 57\u001b[39m\n\u001b[32m     42\u001b[39m     next_3_days = \u001b[38;5;28mlist\u001b[39m(\n\u001b[32m     43\u001b[39m         \u001b[38;5;28mzip\u001b[39m(\n\u001b[32m     44\u001b[39m             data[\u001b[33m\"\u001b[39m\u001b[33mdaily\u001b[39m\u001b[33m\"\u001b[39m][\u001b[33m\"\u001b[39m\u001b[33mtime\u001b[39m\u001b[33m\"\u001b[39m][:\u001b[32m3\u001b[39m],\n\u001b[32m   (...)\u001b[39m\u001b[32m     47\u001b[39m         )\n\u001b[32m     48\u001b[39m     )\n\u001b[32m     50\u001b[39m     \u001b[38;5;28;01mreturn\u001b[39;00m {\n\u001b[32m     51\u001b[39m         \u001b[33m\"\u001b[39m\u001b[33mcurrent\u001b[39m\u001b[33m\"\u001b[39m: {\u001b[33m\"\u001b[39m\u001b[33mspeed\u001b[39m\u001b[33m\"\u001b[39m: current_wind_speed, \u001b[33m\"\u001b[39m\u001b[33mdir\u001b[39m\u001b[33m\"\u001b[39m: current_wind_dir},\n\u001b[32m     52\u001b[39m         \u001b[33m\"\u001b[39m\u001b[33mnext_24\u001b[39m\u001b[33m\"\u001b[39m: next_24,\n\u001b[32m     53\u001b[39m         \u001b[33m\"\u001b[39m\u001b[33mnext_3_days\u001b[39m\u001b[33m\"\u001b[39m: next_3_days,\n\u001b[32m     54\u001b[39m     }\n\u001b[32m---> \u001b[39m\u001b[32m57\u001b[39m \u001b[43mget_wind_data\u001b[49m\u001b[43m(\u001b[49m\u001b[43m)\u001b[49m\n",
      "\u001b[36mCell\u001b[39m\u001b[36m \u001b[39m\u001b[32mIn[6]\u001b[39m\u001b[32m, line 29\u001b[39m, in \u001b[36mget_wind_data\u001b[39m\u001b[34m(latitude, longitude, hours, days)\u001b[39m\n\u001b[32m     27\u001b[39m \u001b[38;5;66;03m# Get current hour index\u001b[39;00m\n\u001b[32m     28\u001b[39m current_hour = datetime.now().strftime(\u001b[33m\"\u001b[39m\u001b[33m%\u001b[39m\u001b[33mY-\u001b[39m\u001b[33m%\u001b[39m\u001b[33mm-\u001b[39m\u001b[38;5;132;01m%d\u001b[39;00m\u001b[33mT\u001b[39m\u001b[33m%\u001b[39m\u001b[33mH:00\u001b[39m\u001b[33m\"\u001b[39m)\n\u001b[32m---> \u001b[39m\u001b[32m29\u001b[39m hour_idx = \u001b[43mdata\u001b[49m\u001b[43m[\u001b[49m\u001b[33;43m\"\u001b[39;49m\u001b[33;43mhourly\u001b[39;49m\u001b[33;43m\"\u001b[39;49m\u001b[43m]\u001b[49m\u001b[43m[\u001b[49m\u001b[33;43m\"\u001b[39;49m\u001b[33;43mtime\u001b[39;49m\u001b[33;43m\"\u001b[39;49m\u001b[43m]\u001b[49m\u001b[43m.\u001b[49m\u001b[43mindex\u001b[49m\u001b[43m(\u001b[49m\u001b[43mcurrent_hour\u001b[49m\u001b[43m)\u001b[49m\n\u001b[32m     31\u001b[39m current_wind_speed = data[\u001b[33m\"\u001b[39m\u001b[33mhourly\u001b[39m\u001b[33m\"\u001b[39m][\u001b[33m\"\u001b[39m\u001b[33mwind_speed_10m\u001b[39m\u001b[33m\"\u001b[39m][hour_idx]\n\u001b[32m     32\u001b[39m current_wind_dir = data[\u001b[33m\"\u001b[39m\u001b[33mhourly\u001b[39m\u001b[33m\"\u001b[39m][\u001b[33m\"\u001b[39m\u001b[33mwind_direction_10m\u001b[39m\u001b[33m\"\u001b[39m][hour_idx]\n",
      "\u001b[31mValueError\u001b[39m: '2025-07-03T20:00' is not in list"
     ]
    }
   ],
   "source": [
    "import requests\n",
    "from datetime import datetime\n",
    "\n",
    "LONG, LAT = (39.5789544215873, -74.22461197107408)\n",
    "\n",
    "\n",
    "def get_wind_data(latitude=LAT, longitude=LONG, hours=24, days=3):\n",
    "    # url = (\n",
    "    #     \"https://marine-api.open-meteo.com/v1/marine?\"\n",
    "    #     \"latitude=39.565&longitude=-74.240&hourly=wind_speed_10m,wind_direction_10m&\"\n",
    "    #     \"daily=wind_speed_10m_max,wind_direction_10m_dominant&timezone=auto\"\n",
    "    # )\n",
    "    base_url = \"https://api.open-meteo.com/v1/forecast\"\n",
    "\n",
    "    params = {\n",
    "        \"latitude\": latitude,\n",
    "        \"longitude\": longitude,\n",
    "        \"hourly\": \"wind_speed_10m,wind_direction_10m\",\n",
    "        \"daily\": \"wind_speed_10m_max,wind_direction_10m_dominant\",\n",
    "        \"timezone\": \"auto\"\n",
    "    }\n",
    "\n",
    "    response = requests.get(base_url, params=params)\n",
    "    response.raise_for_status()\n",
    "    data = response.json()\n",
    "\n",
    "    # Get current hour index\n",
    "    current_hour = datetime.now().strftime(\"%Y-%m-%dT%H:00\")\n",
    "    hour_idx = data[\"hourly\"][\"time\"].index(current_hour)\n",
    "\n",
    "    current_wind_speed = data[\"hourly\"][\"wind_speed_10m\"][hour_idx]\n",
    "    current_wind_dir = data[\"hourly\"][\"wind_direction_10m\"][hour_idx]\n",
    "\n",
    "    # Next 24 hours\n",
    "    next_24 = {\n",
    "        \"wind_speeds\": data[\"hourly\"][\"wind_speed_10m\"][hour_idx : hour_idx + 24],\n",
    "        \"wind_dirs\": data[\"hourly\"][\"wind_direction_10m\"][hour_idx : hour_idx + 24],\n",
    "        \"times\": data[\"hourly\"][\"time\"][hour_idx : hour_idx + 24],\n",
    "    }\n",
    "\n",
    "    # Next 3 days\n",
    "    next_3_days = list(\n",
    "        zip(\n",
    "            data[\"daily\"][\"time\"][:3],\n",
    "            data[\"daily\"][\"wind_speed_10m_max\"][:3],\n",
    "            data[\"daily\"][\"wind_direction_10m_dominant\"][:3],\n",
    "        )\n",
    "    )\n",
    "\n",
    "    return {\n",
    "        \"current\": {\"speed\": current_wind_speed, \"dir\": current_wind_dir},\n",
    "        \"next_24\": next_24,\n",
    "        \"next_3_days\": next_3_days,\n",
    "    }\n",
    "\n",
    "\n",
    "get_wind_data()"
   ]
  },
  {
   "cell_type": "code",
   "execution_count": null,
   "id": "51663ba9",
   "metadata": {},
   "outputs": [],
   "source": []
  }
 ],
 "metadata": {
  "kernelspec": {
   "display_name": ".venv",
   "language": "python",
   "name": "python3"
  },
  "language_info": {
   "codemirror_mode": {
    "name": "ipython",
    "version": 3
   },
   "file_extension": ".py",
   "mimetype": "text/x-python",
   "name": "python",
   "nbconvert_exporter": "python",
   "pygments_lexer": "ipython3",
   "version": "3.11.2"
  }
 },
 "nbformat": 4,
 "nbformat_minor": 5
}
