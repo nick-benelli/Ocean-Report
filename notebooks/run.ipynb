{
 "cells": [
  {
   "cell_type": "markdown",
   "id": "108a266d",
   "metadata": {},
   "source": [
    "# Run Package\n",
    "\n",
    "Run packages with thest varaibles"
   ]
  },
  {
   "cell_type": "code",
   "execution_count": null,
   "id": "c3f11a55",
   "metadata": {},
   "outputs": [],
   "source": [
    "import lbi_surf\n",
    "\n",
    "lbi_surf.hello()\n",
    "lbi_surf.main(run_email=False, test=True)"
   ]
  },
  {
   "cell_type": "code",
   "execution_count": null,
   "id": "ea4af41d",
   "metadata": {},
   "outputs": [],
   "source": []
  }
 ],
 "metadata": {
  "kernelspec": {
   "display_name": "LBI-Surf",
   "language": "python",
   "name": "python3"
  },
  "language_info": {
   "codemirror_mode": {
    "name": "ipython",
    "version": 3
   },
   "file_extension": ".py",
   "mimetype": "text/x-python",
   "name": "python",
   "nbconvert_exporter": "python",
   "pygments_lexer": "ipython3",
   "version": "3.11.2"
  }
 },
 "nbformat": 4,
 "nbformat_minor": 5
}
