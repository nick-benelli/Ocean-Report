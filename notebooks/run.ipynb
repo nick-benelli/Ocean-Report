{
 "cells": [
  {
   "cell_type": "markdown",
   "id": "108a266d",
   "metadata": {},
   "source": [
    "# Ocean Report: Run App\n",
    "\n",
    "Run packages with thest varaibles"
   ]
  },
  {
   "cell_type": "code",
   "execution_count": null,
   "id": "ff237167",
   "metadata": {},
   "outputs": [],
   "source": [
    "# Constants for email run\n",
    "RUN_EMAIL= False\n",
    "TEST= True"
   ]
  },
  {
   "cell_type": "code",
   "execution_count": null,
   "id": "c3f11a55",
   "metadata": {},
   "outputs": [],
   "source": [
    "import ocean_report\n",
    "\n",
    "# Print Hello\n",
    "ocean_report.hello()\n",
    "\n",
    "# Run Report\n",
    "ocean_report.main(run_email=RUN_EMAIL, test=TEST)"
   ]
  },
  {
   "cell_type": "code",
   "execution_count": null,
   "id": "ea4af41d",
   "metadata": {},
   "outputs": [],
   "source": []
  }
 ],
 "metadata": {
  "kernelspec": {
   "display_name": "ocean-report (3.11.1)",
   "language": "python",
   "name": "python3"
  },
  "language_info": {
   "codemirror_mode": {
    "name": "ipython",
    "version": 3
   },
   "file_extension": ".py",
   "mimetype": "text/x-python",
   "name": "python",
   "nbconvert_exporter": "python",
   "pygments_lexer": "ipython3",
   "version": "3.11.1"
  }
 },
 "nbformat": 4,
 "nbformat_minor": 5
}
