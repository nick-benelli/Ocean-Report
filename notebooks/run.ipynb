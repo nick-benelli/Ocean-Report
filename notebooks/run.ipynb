{
 "cells": [
  {
   "cell_type": "markdown",
   "id": "108a266d",
   "metadata": {},
   "source": [
    "# Run Package\n",
    "\n",
    "Run packages with thest varaibles"
   ]
  },
  {
   "cell_type": "code",
   "execution_count": 1,
   "id": "c3f11a55",
   "metadata": {},
   "outputs": [
    {
     "name": "stderr",
     "output_type": "stream",
     "text": [
      "2025-07-27 17:40:32,770 [INFO] Fetching tide data...\n"
     ]
    },
    {
     "name": "stdout",
     "output_type": "stream",
     "text": [
      "Hello from ocean-report!\n"
     ]
    },
    {
     "name": "stderr",
     "output_type": "stream",
     "text": [
      "2025-07-27 17:40:33,059 [INFO] Fetching water temp data...\n",
      "2025-07-27 17:40:33,228 [INFO] Fetching wind data...\n",
      "2025-07-27 17:40:33,741 [INFO] Generating email body...\n",
      "2025-07-27 17:40:33,743 [INFO] Sending email...\n"
     ]
    },
    {
     "name": "stdout",
     "output_type": "stream",
     "text": [
      "Email sending is disabled.\n",
      "\n",
      "To: None\n",
      " BCC: nick.benelli12@gmail.com, nickbenelliwork@gmail.com\n",
      " From: nbenelli.waterreport@gmail.com\n",
      "\n",
      "\n",
      " TEST: 🌊 Daily Water Report: 2025-07-27\n",
      "\n",
      "Daily Water Report – Sunday, July 27, 2025 \n",
      "\n",
      "🌡️ Water Temperature: 76.6 °F\n",
      "\n",
      "🌊 Tides:\n",
      "High Tide at 10:10 AM — 4.2 ft\n",
      "Low Tide at 4:02 PM — 0.3 ft\n",
      "\n",
      "🌬️ Wind Forecast:\n",
      "Here’s the wind forecast near your beach for key times today:\n",
      "-  8 AM:  6.3 mph SE  (141°) → Onshore\n",
      "- 12 PM: 13.4 mph S   (170°) → Cross/Onshore\n",
      "-  3 PM: 17.1 mph S   (172°) → Cross/Onshore\n",
      "-  6 PM: 19.6 mph S   (186°) → Cross/Onshore\n",
      "\n",
      "\n"
     ]
    }
   ],
   "source": [
    "# Import necessary modules\n",
    "import ocean_report\n",
    "\n",
    "ocean_report.hello()\n",
    "ocean_report.main(run_email=False, test=True)"
   ]
  },
  {
   "cell_type": "code",
   "execution_count": null,
   "id": "ea4af41d",
   "metadata": {},
   "outputs": [],
   "source": []
  }
 ],
 "metadata": {
  "kernelspec": {
   "display_name": "Ocean-Report",
   "language": "python",
   "name": "python3"
  },
  "language_info": {
   "codemirror_mode": {
    "name": "ipython",
    "version": 3
   },
   "file_extension": ".py",
   "mimetype": "text/x-python",
   "name": "python",
   "nbconvert_exporter": "python",
   "pygments_lexer": "ipython3",
   "version": "3.11.2"
  }
 },
 "nbformat": 4,
 "nbformat_minor": 5
}
