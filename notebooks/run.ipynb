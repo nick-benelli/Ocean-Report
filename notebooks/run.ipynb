{
 "cells": [
  {
   "cell_type": "code",
   "execution_count": 2,
   "id": "c3f11a55",
   "metadata": {},
   "outputs": [
    {
     "name": "stderr",
     "output_type": "stream",
     "text": [
      "2025-07-27 12:26:37,949 [INFO] Fetching tide data...\n"
     ]
    },
    {
     "name": "stdout",
     "output_type": "stream",
     "text": [
      "Hello from lbi-surf!\n"
     ]
    },
    {
     "name": "stderr",
     "output_type": "stream",
     "text": [
      "2025-07-27 12:26:38,068 [INFO] Fetching water temp data...\n",
      "2025-07-27 12:26:38,240 [INFO] Fetching wind data...\n",
      "2025-07-27 12:26:38,739 [INFO] Generating email body...\n",
      "2025-07-27 12:26:38,741 [INFO] Sending email...\n"
     ]
    },
    {
     "name": "stdout",
     "output_type": "stream",
     "text": [
      "Email sent successfully.\n",
      "Email sent successfully!\n"
     ]
    }
   ],
   "source": [
    "import lbi_surf\n",
    "\n",
    "lbi_surf.hello()\n",
    "lbi_surf.main(run_email=True, test=True)"
   ]
  },
  {
   "cell_type": "code",
   "execution_count": null,
   "id": "ea4af41d",
   "metadata": {},
   "outputs": [],
   "source": []
  }
 ],
 "metadata": {
  "kernelspec": {
   "display_name": "LBI-Surf",
   "language": "python",
   "name": "python3"
  },
  "language_info": {
   "codemirror_mode": {
    "name": "ipython",
    "version": 3
   },
   "file_extension": ".py",
   "mimetype": "text/x-python",
   "name": "python",
   "nbconvert_exporter": "python",
   "pygments_lexer": "ipython3",
   "version": "3.11.2"
  }
 },
 "nbformat": 4,
 "nbformat_minor": 5
}
