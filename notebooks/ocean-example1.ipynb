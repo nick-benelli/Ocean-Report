{
 "cells": [
  {
   "cell_type": "code",
   "execution_count": null,
   "id": "26d6cba3",
   "metadata": {},
   "outputs": [
    {
     "data": {
      "application/vnd.microsoft.datawrangler.viewer.v0+json": {
       "columns": [
        {
         "name": "index",
         "rawType": "int64",
         "type": "integer"
        },
        {
         "name": "t",
         "rawType": "object",
         "type": "string"
        },
        {
         "name": "v",
         "rawType": "object",
         "type": "string"
        },
        {
         "name": "type",
         "rawType": "object",
         "type": "string"
        }
       ],
       "ref": "f14fd55f-cb5a-4b84-83d2-e09de58bc123",
       "rows": [
        [
         "0",
         "2025-07-03 01:57",
         "3.589",
         "H"
        ],
        [
         "1",
         "2025-07-03 08:23",
         "0.713",
         "L"
        ],
        [
         "2",
         "2025-07-03 14:47",
         "3.894",
         "H"
        ],
        [
         "3",
         "2025-07-03 21:02",
         "1.147",
         "L"
        ]
       ],
       "shape": {
        "columns": 3,
        "rows": 4
       }
      },
      "text/html": [
       "<div>\n",
       "<style scoped>\n",
       "    .dataframe tbody tr th:only-of-type {\n",
       "        vertical-align: middle;\n",
       "    }\n",
       "\n",
       "    .dataframe tbody tr th {\n",
       "        vertical-align: top;\n",
       "    }\n",
       "\n",
       "    .dataframe thead th {\n",
       "        text-align: right;\n",
       "    }\n",
       "</style>\n",
       "<table border=\"1\" class=\"dataframe\">\n",
       "  <thead>\n",
       "    <tr style=\"text-align: right;\">\n",
       "      <th></th>\n",
       "      <th>t</th>\n",
       "      <th>v</th>\n",
       "      <th>type</th>\n",
       "    </tr>\n",
       "  </thead>\n",
       "  <tbody>\n",
       "    <tr>\n",
       "      <th>0</th>\n",
       "      <td>2025-07-03 01:57</td>\n",
       "      <td>3.589</td>\n",
       "      <td>H</td>\n",
       "    </tr>\n",
       "    <tr>\n",
       "      <th>1</th>\n",
       "      <td>2025-07-03 08:23</td>\n",
       "      <td>0.713</td>\n",
       "      <td>L</td>\n",
       "    </tr>\n",
       "    <tr>\n",
       "      <th>2</th>\n",
       "      <td>2025-07-03 14:47</td>\n",
       "      <td>3.894</td>\n",
       "      <td>H</td>\n",
       "    </tr>\n",
       "    <tr>\n",
       "      <th>3</th>\n",
       "      <td>2025-07-03 21:02</td>\n",
       "      <td>1.147</td>\n",
       "      <td>L</td>\n",
       "    </tr>\n",
       "  </tbody>\n",
       "</table>\n",
       "</div>"
      ],
      "text/plain": [
       "                  t      v type\n",
       "0  2025-07-03 01:57  3.589    H\n",
       "1  2025-07-03 08:23  0.713    L\n",
       "2  2025-07-03 14:47  3.894    H\n",
       "3  2025-07-03 21:02  1.147    L"
      ]
     },
     "metadata": {},
     "output_type": "display_data"
    }
   ],
   "source": [
    "import requests\n",
    "import smtplib\n",
    "from email.mime.text import MIMEText\n",
    "from datetime import datetime\n",
    "import pandas as pd\n",
    "import os\n",
    "from dotenv import load_dotenv\n",
    "\n",
    "load_dotenv()\n",
    "\n",
    "\n",
    "# NOAA Station ID\n",
    "STATION_ID = \"8534720\"\n",
    "\n",
    "# NOAA API endpoints\n",
    "TIDE_URL = (\n",
    "    f\"https://api.tidesandcurrents.noaa.gov/api/prod/datagetter?\"\n",
    "    f\"product=predictions&application=chatgpt-tide-app&begin_date=latest&\"\n",
    "    f\"end_date=latest&datum=MLLW&station={STATION_ID}&time_zone=lst_ldt&\"\n",
    "    f\"units=english&interval=hilo&format=json\"\n",
    ")\n",
    "\n",
    "TEMP_URL = (\n",
    "    f\"https://api.tidesandcurrents.noaa.gov/api/prod/datagetter?\"\n",
    "    f\"product=water_temperature&application=chatgpt-tide-app&station={STATION_ID}&\"\n",
    "    f\"date=latest&units=english&time_zone=lst_ldt&format=json\"\n",
    ")\n",
    "\n",
    "# Email config\n",
    "SMTP_SERVER = \"smtp.gmail.com\"\n",
    "SMTP_PORT = 587\n",
    "EMAIL_SENDER = \"nbenelli.waterreport@gmail.com\"\n",
    "EMAIL_PASSWORD = os.getenv(\"EMAIL_PASSWORD\")\n",
    "EMAIL_RECIPIENT = \"nick.benelli12@gmail.com\"\n",
    "\n",
    "\n",
    "def fetch_tide_data(station_id=\"8534720\", date=None):\n",
    "    if date is None:\n",
    "        date = datetime.now().strftime(\"%Y%m%d\")\n",
    "\n",
    "    # tide_url = (\n",
    "    #     f\"https://api.tidesandcurrents.noaa.gov/api/prod/datagetter?\"\n",
    "    #     f\"product=predictions&application=chatgpt-tide-app&begin_date={today}&\"\n",
    "    #     f\"end_date={today}&datum=MLLW&station={STATION_ID}&time_zone=lst_ldt&\"\n",
    "    #     f\"units=english&interval=hilo&format=json\"\n",
    "    # )\n",
    "    base_url = \"https://api.tidesandcurrents.noaa.gov/api/prod/datagetter\"\n",
    "\n",
    "    params = {\n",
    "        \"product\": \"predictions\",\n",
    "        \"application\": \"chatgpt-tide-app\",\n",
    "        \"begin_date\": date,\n",
    "        \"end_date\": date,\n",
    "        \"datum\": \"MLLW\",\n",
    "        \"station\": station_id,\n",
    "        \"time_zone\": \"lst_ldt\",\n",
    "        \"units\": \"english\",\n",
    "        \"interval\": \"hilo\",\n",
    "        \"format\": \"json\",\n",
    "    }\n",
    "\n",
    "    response = requests.get(base_url, params=params)\n",
    "    response.raise_for_status()\n",
    "    data = response.json()\n",
    "\n",
    "    return data[\"predictions\"]\n",
    "\n",
    "\n",
    "def fetch_water_temp(station_id: str = \"8534720\"):\n",
    "    # response = requests.get(TEMP_URL)\n",
    "    base_url = \"https://api.tidesandcurrents.noaa.gov/api/prod/datagetter\"\n",
    "\n",
    "    params = {\n",
    "        \"product\": \"water_temperature\",\n",
    "        \"application\": \"chatgpt-tide-app\",\n",
    "        \"station\": station_id,\n",
    "        \"date\": \"latest\",\n",
    "        \"units\": \"english\",\n",
    "        \"time_zone\": \"lst_ldt\",\n",
    "        \"format\": \"json\",\n",
    "    }\n",
    "\n",
    "    response = requests.get(base_url, params=params)\n",
    "    response.raise_for_status()\n",
    "    data = response.json()\n",
    "    return data[\"data\"][0][\"v\"] + \" °F\"\n",
    "\n",
    "\n",
    "def send_email(subject, body):\n",
    "    msg = MIMEText(body)\n",
    "    msg[\"Subject\"] = subject\n",
    "    msg[\"From\"] = EMAIL_SENDER\n",
    "    msg[\"To\"] = EMAIL_RECIPIENT\n",
    "\n",
    "    with smtplib.SMTP(SMTP_SERVER, SMTP_PORT) as server:\n",
    "        server.starttls()\n",
    "        server.login(EMAIL_SENDER, EMAIL_PASSWORD)\n",
    "        server.send_message(msg)\n",
    "\n",
    "\n",
    "water_temp = fetch_water_temp()\n",
    "\n",
    "\n",
    "display(pd.DataFrame(fetch_tide_data()))"
   ]
  },
  {
   "cell_type": "code",
   "execution_count": 27,
   "id": "ca9577bb",
   "metadata": {},
   "outputs": [],
   "source": [
    "tide_data = fetch_tide_data()"
   ]
  },
  {
   "cell_type": "code",
   "execution_count": 28,
   "id": "460df7b3",
   "metadata": {},
   "outputs": [],
   "source": [
    "from datetime import datetime, time\n",
    "\n",
    "\n",
    "def filter_daytime_tides(tides, start_hour=7, end_hour=19):\n",
    "    \"\"\"Return only tides that occur between start_hour and end_hour (24-hour format).\"\"\"\n",
    "    result = []\n",
    "    for tide in tides:\n",
    "        tide_time = datetime.strptime(tide[\"t\"], \"%Y-%m-%d %H:%M\")\n",
    "        if time(start_hour) <= tide_time.time() <= time(end_hour):\n",
    "            result.append(tide)\n",
    "    return result"
   ]
  },
  {
   "cell_type": "code",
   "execution_count": 29,
   "id": "20de987e",
   "metadata": {},
   "outputs": [],
   "source": [
    "pd.DataFrame(filter_daytime_tides(tide_data))\n",
    "\n",
    "day_tide_data = filter_daytime_tides(tide_data)"
   ]
  },
  {
   "cell_type": "code",
   "execution_count": 30,
   "id": "20f492d8",
   "metadata": {},
   "outputs": [
    {
     "name": "stdout",
     "output_type": "stream",
     "text": [
      "Low Tide at 8:23 AM — 0.7 ft\n",
      "High Tide at 2:47 PM — 3.9 ft\n"
     ]
    }
   ],
   "source": [
    "from datetime import datetime\n",
    "\n",
    "\n",
    "def format_tide_for_email(tide_events):\n",
    "    formatted = []\n",
    "    for tide in tide_events:\n",
    "        dt = datetime.strptime(tide[\"t\"], \"%Y-%m-%d %H:%M\")\n",
    "        time_str = dt.strftime(\"%-I:%M %p\")  # e.g., 2:47 PM\n",
    "        tide_type = \"High Tide\" if tide[\"type\"] == \"H\" else \"Low Tide\"\n",
    "        height = float(tide[\"v\"])\n",
    "        formatted.append(f\"{tide_type} at {time_str} — {height:.1f} ft\")\n",
    "    return \"\\n\".join(formatted)\n",
    "\n",
    "\n",
    "print(format_tide_for_email(day_tide_data))"
   ]
  },
  {
   "cell_type": "code",
   "execution_count": 31,
   "id": "41684d76",
   "metadata": {},
   "outputs": [],
   "source": [
    "from datetime import datetime\n",
    "\n",
    "\n",
    "def format_tide_for_email(tide_events):\n",
    "    formatted = []\n",
    "    for tide in tide_events:\n",
    "        dt = datetime.strptime(tide[\"t\"], \"%Y-%m-%d %H:%M\")\n",
    "        time_str = dt.strftime(\"%-I:%M %p\")  # e.g., 2:47 PM\n",
    "        tide_type = \"High Tide\" if tide[\"type\"] == \"H\" else \"Low Tide\"\n",
    "        height = float(tide[\"v\"])\n",
    "        formatted.append(f\"{tide_type} at {time_str} — {height:.1f} ft\")\n",
    "    return \"\\n\".join(formatted)\n",
    "\n",
    "\n",
    "def generate_email_body(tide_events, water_temp_fahrenheit):\n",
    "    today = datetime.now().strftime(\"%A, %B %d, %Y\")\n",
    "\n",
    "    tide_section = format_tide_for_email(tide_events)\n",
    "\n",
    "    body = (\n",
    "        f\"🌊 Daily Water Report – {today} 🌊\\n\\n\"\n",
    "        f\"🌡️ Water Temperature: {water_temp_fahrenheit}\\n\\n\"\n",
    "        f\"🌊 Tides:\\n{tide_section}\\n\\n\"\n",
    "        # f\"Have a great day on the water!\"\n",
    "    )\n",
    "    return body"
   ]
  },
  {
   "cell_type": "code",
   "execution_count": 32,
   "id": "b5cd0fc7",
   "metadata": {},
   "outputs": [
    {
     "name": "stdout",
     "output_type": "stream",
     "text": [
      "🌊 Daily Water Report – Thursday, July 03, 2025 🌊\n",
      "\n",
      "🌡️ Water Temperature: 70.9 °F\n",
      "\n",
      "🌊 Tides:\n",
      "Low Tide at 8:23 AM — 0.7 ft\n",
      "High Tide at 2:47 PM — 3.9 ft\n",
      "\n",
      "\n"
     ]
    }
   ],
   "source": [
    "# Example input data\n",
    "# tide_data = [\n",
    "#     {'t': '2025-07-03 08:23', 'v': '0.713', 'type': 'L'},\n",
    "#     {'t': '2025-07-03 14:47', 'v': '3.894', 'type': 'H'}\n",
    "# ]\n",
    "# water_temp = \"72.5 °F\"\n",
    "\n",
    "email_body = generate_email_body(day_tide_data, water_temp)\n",
    "print(email_body)"
   ]
  },
  {
   "cell_type": "code",
   "execution_count": 33,
   "id": "5162645a",
   "metadata": {},
   "outputs": [],
   "source": [
    "send_email(subject=\"Daily Water Report\", body=email_body)"
   ]
  },
  {
   "cell_type": "code",
   "execution_count": 1,
   "id": "c8d3f706",
   "metadata": {},
   "outputs": [
    {
     "data": {
      "text/plain": [
       "'2025-07-03'"
      ]
     },
     "execution_count": 1,
     "metadata": {},
     "output_type": "execute_result"
    }
   ],
   "source": [
    "from datetime import datetime\n",
    "\n",
    "datetime.today().strftime(\"%Y-%m-%d\")"
   ]
  },
  {
   "cell_type": "code",
   "execution_count": 3,
   "id": "9de2ff1a",
   "metadata": {},
   "outputs": [
    {
     "name": "stdout",
     "output_type": "stream",
     "text": [
      "a\n",
      "b\n",
      "c\n",
      "\n",
      "\n"
     ]
    },
    {
     "data": {
      "text/plain": [
       "'a\\nb\\nc\\n\\n'"
      ]
     },
     "execution_count": 3,
     "metadata": {},
     "output_type": "execute_result"
    }
   ],
   "source": [
    "lines = ['a', 'b', 'c']\n",
    "print('\\n'.join(lines) + \"\\n\\n\")\n",
    "'\\n'.join(lines) + \"\\n\\n\""
   ]
  },
  {
   "cell_type": "code",
   "execution_count": null,
   "id": "63caa0d9",
   "metadata": {},
   "outputs": [],
   "source": []
  }
 ],
 "metadata": {
  "kernelspec": {
   "display_name": ".venv",
   "language": "python",
   "name": "python3"
  },
  "language_info": {
   "codemirror_mode": {
    "name": "ipython",
    "version": 3
   },
   "file_extension": ".py",
   "mimetype": "text/x-python",
   "name": "python",
   "nbconvert_exporter": "python",
   "pygments_lexer": "ipython3",
   "version": "3.11.2"
  }
 },
 "nbformat": 4,
 "nbformat_minor": 5
}
