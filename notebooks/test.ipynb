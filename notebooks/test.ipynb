{
 "cells": [
  {
   "cell_type": "code",
   "execution_count": 1,
   "id": "d231a25b",
   "metadata": {},
   "outputs": [
    {
     "name": "stdout",
     "output_type": "stream",
     "text": [
      "Sender email: nbenelli.waterreport@gmail.com\n"
     ]
    }
   ],
   "source": [
    "import os\n",
    "import yaml\n",
    "from dotenv import load_dotenv\n",
    "from string import Template\n",
    "from dotenv import find_dotenv\n",
    "\n",
    "PROJECT_DIR = os.path.dirname(find_dotenv(\"pyproject.toml\")) or os.getcwd()\n",
    "\n",
    "\n",
    "def load_config_with_env_substitution(path: str) -> dict:\n",
    "    \"\"\"Load YAML config and substitute environment variables.\"\"\"\n",
    "    # Load .env file into environment\n",
    "    load_dotenv()\n",
    "\n",
    "    with open(path) as f:\n",
    "        content = f.read()\n",
    "\n",
    "    # Replace ${VAR_NAME} with environment variable values\n",
    "    template = Template(content)\n",
    "    substituted = template.substitute(os.environ)\n",
    "\n",
    "    return yaml.safe_load(substituted)\n",
    "\n",
    "\n",
    "# Usage\n",
    "yaml_path = os.path.join(PROJECT_DIR, \"config.yaml\")\n",
    "config = load_config_with_env_substitution(yaml_path)\n",
    "sender = config[\"email\"][\"sender\"]\n",
    "print(f\"Sender email: {sender}\")"
   ]
  },
  {
   "cell_type": "code",
   "execution_count": 4,
   "id": "3781c780",
   "metadata": {},
   "outputs": [
    {
     "data": {
      "text/plain": [
       "-74.22461197107408"
      ]
     },
     "execution_count": 4,
     "metadata": {},
     "output_type": "execute_result"
    }
   ],
   "source": [
    "config[\"location\"].get(\"longitude\")"
   ]
  },
  {
   "cell_type": "code",
   "execution_count": null,
   "id": "39ebf7cb",
   "metadata": {},
   "outputs": [],
   "source": []
  }
 ],
 "metadata": {
  "kernelspec": {
   "display_name": "LBI-Surf",
   "language": "python",
   "name": "python3"
  },
  "language_info": {
   "codemirror_mode": {
    "name": "ipython",
    "version": 3
   },
   "file_extension": ".py",
   "mimetype": "text/x-python",
   "name": "python",
   "nbconvert_exporter": "python",
   "pygments_lexer": "ipython3",
   "version": "3.11.2"
  }
 },
 "nbformat": 4,
 "nbformat_minor": 5
}
