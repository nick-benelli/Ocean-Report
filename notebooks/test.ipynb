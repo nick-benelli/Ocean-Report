{
 "cells": [
  {
   "cell_type": "markdown",
   "id": "29cee95e",
   "metadata": {},
   "source": [
    "# Test Developer\n",
    "\n",
    "Notebook used for testing and developing"
   ]
  },
  {
   "cell_type": "code",
   "execution_count": 1,
   "id": "83684e5d",
   "metadata": {},
   "outputs": [],
   "source": [
    "from datetime import date, timedelta\n",
    "\n",
    "def get_labor_day(year: int) -> date:\n",
    "    \"\"\"\n",
    "    Return the date of Labor Day (first Monday of September) for a given year.\n",
    "\n",
    "    Args:\n",
    "        year (int): The year to calculate Labor Day for.\n",
    "\n",
    "    Returns:\n",
    "        date: The date of Labor Day in that year.\n",
    "    \"\"\"\n",
    "    # September 1st of that year\n",
    "    sept_first = date(year, 9, 1)\n",
    "    # weekday() → Monday=0 ... Sunday=6\n",
    "    days_until_monday = (0 - sept_first.weekday()) % 7\n",
    "    return sept_first + timedelta(days=days_until_monday)\n"
   ]
  },
  {
   "cell_type": "code",
   "execution_count": 3,
   "id": "64205b82",
   "metadata": {},
   "outputs": [
    {
     "name": "stdout",
     "output_type": "stream",
     "text": [
      "2023-09-04\n",
      "2024-09-02\n",
      "2025-09-01\n",
      "2026-09-07\n",
      "2027-09-06\n"
     ]
    }
   ],
   "source": [
    "print(get_labor_day(2023))\n",
    "print(get_labor_day(2024))\n",
    "print(get_labor_day(2025))  # 2025-09-01\n",
    "print(get_labor_day(2026))  # 2026-09-07\n",
    "print(get_labor_day(2027))  # 2027-09-06\n"
   ]
  },
  {
   "cell_type": "code",
   "execution_count": 4,
   "id": "f555b7ba",
   "metadata": {},
   "outputs": [],
   "source": [
    "from datetime import date, timedelta\n",
    "\n",
    "def get_memorial_day(year: int) -> date:\n",
    "    \"\"\"\n",
    "    Return the date of Memorial Day (last Monday of May) for a given year.\n",
    "\n",
    "    Args:\n",
    "        year (int): The year to calculate Memorial Day for.\n",
    "\n",
    "    Returns:\n",
    "        date: The date of Memorial Day in that year.\n",
    "    \"\"\"\n",
    "    # May 31st of that year\n",
    "    may_last = date(year, 5, 31)\n",
    "    # Go backwards until Monday\n",
    "    days_back_to_monday = (may_last.weekday() - 0) % 7\n",
    "    return may_last - timedelta(days=days_back_to_monday)\n"
   ]
  },
  {
   "cell_type": "code",
   "execution_count": 6,
   "id": "0b003959",
   "metadata": {},
   "outputs": [
    {
     "name": "stdout",
     "output_type": "stream",
     "text": [
      "2022-05-30\n",
      "2023-05-29\n",
      "2024-05-27\n",
      "2025-05-26\n",
      "2026-05-25\n",
      "2027-05-31\n"
     ]
    }
   ],
   "source": [
    "print(get_memorial_day(2022))\n",
    "print(get_memorial_day(2023))\n",
    "print(get_memorial_day(2024))\n",
    "print(get_memorial_day(2025))  # 2025-05-26\n",
    "print(get_memorial_day(2026))  # 2026-05-25\n",
    "print(get_memorial_day(2027))"
   ]
  },
  {
   "cell_type": "code",
   "execution_count": null,
   "id": "0a21f48d",
   "metadata": {},
   "outputs": [
    {
     "name": "stdout",
     "output_type": "stream",
     "text": [
      "Two days before: 2025-05-24\n"
     ]
    }
   ],
   "source": [
    "two_days_before = get_memorial_day(2025) - timedelta(days=3)\n",
    "\n",
    "\n",
    "print(\"Two days before:\", two_days_before)  # 2025-05-24"
   ]
  },
  {
   "cell_type": "code",
   "execution_count": 8,
   "id": "468f4987",
   "metadata": {},
   "outputs": [],
   "source": [
    "def is_summer(today: date | None = None, days_before_memorial: int = 4, days_after_labor: int = 7) -> bool:\n",
    "    \"\"\"\n",
    "    Determine if a given date is in 'summer' season:\n",
    "    - Starts 4 days before Memorial Day\n",
    "    - Ends 7 days after Labor Day\n",
    "    \"\"\"\n",
    "    if today is None:\n",
    "        today = date.today()\n",
    "    \n",
    "    year = today.year\n",
    "    memorial_day = get_memorial_day(year) - timedelta(days=days_before_memorial)\n",
    "    labor_day = get_labor_day(year) + timedelta(days=days_after_labor)\n",
    "\n",
    "    return memorial_day <= today <= labor_day"
   ]
  },
  {
   "cell_type": "code",
   "execution_count": 13,
   "id": "d60f31e3",
   "metadata": {},
   "outputs": [
    {
     "data": {
      "text/plain": [
       "False"
      ]
     },
     "execution_count": 13,
     "metadata": {},
     "output_type": "execute_result"
    }
   ],
   "source": [
    "is_summer(date(2025, 9, 30))  # True"
   ]
  },
  {
   "cell_type": "code",
   "execution_count": 16,
   "id": "df05bfdd",
   "metadata": {},
   "outputs": [
    {
     "data": {
      "text/plain": [
       "datetime.date(2025, 5, 25)"
      ]
     },
     "execution_count": 16,
     "metadata": {},
     "output_type": "execute_result"
    }
   ],
   "source": [
    "memorial_day = get_memorial_day(2025) + timedelta(days=-1)\n",
    "memorial_day"
   ]
  },
  {
   "cell_type": "code",
   "execution_count": null,
   "id": "ab8d66bf",
   "metadata": {},
   "outputs": [],
   "source": []
  }
 ],
 "metadata": {
  "kernelspec": {
   "display_name": "ocean-report (3.11.1)",
   "language": "python",
   "name": "python3"
  },
  "language_info": {
   "codemirror_mode": {
    "name": "ipython",
    "version": 3
   },
   "file_extension": ".py",
   "mimetype": "text/x-python",
   "name": "python",
   "nbconvert_exporter": "python",
   "pygments_lexer": "ipython3",
   "version": "3.11.1"
  }
 },
 "nbformat": 4,
 "nbformat_minor": 5
}
