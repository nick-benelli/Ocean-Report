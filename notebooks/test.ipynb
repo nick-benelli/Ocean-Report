{
 "cells": [
  {
   "cell_type": "markdown",
   "id": "29cee95e",
   "metadata": {},
   "source": [
    "# Test Developer\n",
    "\n",
    "Notebook used for testing and developing"
   ]
  },
  {
   "cell_type": "code",
   "execution_count": 5,
   "id": "39ebf7cb",
   "metadata": {},
   "outputs": [
    {
     "name": "stdout",
     "output_type": "stream",
     "text": [
      "Current month: 1 - It's winter!\n",
      "Current month: 2 - It's winter!\n",
      "Current month: 3 - It's winter!\n",
      "Current month: 4 - It's winter!\n",
      "Current month: 5 - It's winter!\n",
      "Current month: 6 - It's summer!\n",
      "Current month: 7 - It's summer!\n",
      "Current month: 8 - It's summer!\n",
      "Current month: 9 - It's summer!\n",
      "Current month: 10 - It's winter!\n",
      "Current month: 11 - It's winter!\n",
      "Current month: 12 - It's winter!\n"
     ]
    }
   ],
   "source": [
    "current_months = range(1, 13) \n",
    "\n",
    "for (curr_month) in current_months:\n",
    "    if curr_month >= 6 and curr_month <= 9:\n",
    "        print(f\"Current month: {curr_month} - It's summer!\")\n",
    "    else:\n",
    "        print(f\"Current month: {curr_month} - It's winter!\")\n"
   ]
  },
  {
   "cell_type": "code",
   "execution_count": 1,
   "id": "6ed3f294",
   "metadata": {},
   "outputs": [],
   "source": [
    "# from ocean_report.config import config\n",
    "from ocean_report import config\n",
    "\n"
   ]
  },
  {
   "cell_type": "code",
   "execution_count": 3,
   "id": "9eb86226",
   "metadata": {},
   "outputs": [
    {
     "data": {
      "text/plain": [
       "'https://gist.githubusercontent.com/nick-benelli/e3f1eb031e5b443865c3a3b5e5cc5e97/raw/3daf461dd6609aebd924ee63bc58cb59fbe5e0b3/ocean-report-offseason-recips.txt'"
      ]
     },
     "execution_count": 3,
     "metadata": {},
     "output_type": "execute_result"
    }
   ],
   "source": [
    "config.OFFSEASON_RECIPIENTS_GIST_URL"
   ]
  },
  {
   "cell_type": "code",
   "execution_count": null,
   "id": "bec17dc8",
   "metadata": {},
   "outputs": [],
   "source": []
  }
 ],
 "metadata": {
  "kernelspec": {
   "display_name": "ocean-report (3.11.1)",
   "language": "python",
   "name": "python3"
  },
  "language_info": {
   "codemirror_mode": {
    "name": "ipython",
    "version": 3
   },
   "file_extension": ".py",
   "mimetype": "text/x-python",
   "name": "python",
   "nbconvert_exporter": "python",
   "pygments_lexer": "ipython3",
   "version": "3.11.1"
  }
 },
 "nbformat": 4,
 "nbformat_minor": 5
}
