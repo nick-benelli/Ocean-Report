{
 "cells": [
  {
   "cell_type": "markdown",
   "id": "29cee95e",
   "metadata": {},
   "source": [
    "# Test Developer\n",
    "\n",
    "Notebook used for testing and developing"
   ]
  },
  {
   "cell_type": "code",
   "execution_count": null,
   "id": "83684e5d",
   "metadata": {},
   "outputs": [],
   "source": [
    "import ocean_report\n",
    "\n",
    "\n",
    "ocean_report.hello()\n",
    "\n",
    "ocean_report.main(run_email=False, test=False)"
   ]
  },
  {
   "cell_type": "code",
   "execution_count": null,
   "id": "ee460ce6",
   "metadata": {},
   "outputs": [],
   "source": []
  }
 ],
 "metadata": {
  "kernelspec": {
   "display_name": "ocean-report (3.11.1)",
   "language": "python",
   "name": "python3"
  },
  "language_info": {
   "codemirror_mode": {
    "name": "ipython",
    "version": 3
   },
   "file_extension": ".py",
   "mimetype": "text/x-python",
   "name": "python",
   "nbconvert_exporter": "python",
   "pygments_lexer": "ipython3",
   "version": "3.11.1"
  }
 },
 "nbformat": 4,
 "nbformat_minor": 5
}
