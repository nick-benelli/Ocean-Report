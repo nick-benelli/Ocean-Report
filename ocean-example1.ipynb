{
 "cells": [
  {
   "cell_type": "code",
   "execution_count": 1,
   "id": "26d6cba3",
   "metadata": {},
   "outputs": [
    {
     "name": "stdout",
     "output_type": "stream",
     "text": [
      "71.1 °F\n"
     ]
    },
    {
     "data": {
      "application/vnd.microsoft.datawrangler.viewer.v0+json": {
       "columns": [
        {
         "name": "index",
         "rawType": "int64",
         "type": "integer"
        },
        {
         "name": "t",
         "rawType": "object",
         "type": "string"
        },
        {
         "name": "v",
         "rawType": "object",
         "type": "string"
        },
        {
         "name": "type",
         "rawType": "object",
         "type": "string"
        }
       ],
       "conversionMethod": "pd.DataFrame",
       "ref": "e9b09340-f5bd-4cec-a809-6162933e9f80",
       "rows": [
        [
         "0",
         "2025-07-03 01:57",
         "3.589",
         "H"
        ],
        [
         "1",
         "2025-07-03 08:23",
         "0.713",
         "L"
        ],
        [
         "2",
         "2025-07-03 14:47",
         "3.894",
         "H"
        ],
        [
         "3",
         "2025-07-03 21:02",
         "1.147",
         "L"
        ]
       ],
       "shape": {
        "columns": 3,
        "rows": 4
       }
      },
      "text/html": [
       "<div>\n",
       "<style scoped>\n",
       "    .dataframe tbody tr th:only-of-type {\n",
       "        vertical-align: middle;\n",
       "    }\n",
       "\n",
       "    .dataframe tbody tr th {\n",
       "        vertical-align: top;\n",
       "    }\n",
       "\n",
       "    .dataframe thead th {\n",
       "        text-align: right;\n",
       "    }\n",
       "</style>\n",
       "<table border=\"1\" class=\"dataframe\">\n",
       "  <thead>\n",
       "    <tr style=\"text-align: right;\">\n",
       "      <th></th>\n",
       "      <th>t</th>\n",
       "      <th>v</th>\n",
       "      <th>type</th>\n",
       "    </tr>\n",
       "  </thead>\n",
       "  <tbody>\n",
       "    <tr>\n",
       "      <th>0</th>\n",
       "      <td>2025-07-03 01:57</td>\n",
       "      <td>3.589</td>\n",
       "      <td>H</td>\n",
       "    </tr>\n",
       "    <tr>\n",
       "      <th>1</th>\n",
       "      <td>2025-07-03 08:23</td>\n",
       "      <td>0.713</td>\n",
       "      <td>L</td>\n",
       "    </tr>\n",
       "    <tr>\n",
       "      <th>2</th>\n",
       "      <td>2025-07-03 14:47</td>\n",
       "      <td>3.894</td>\n",
       "      <td>H</td>\n",
       "    </tr>\n",
       "    <tr>\n",
       "      <th>3</th>\n",
       "      <td>2025-07-03 21:02</td>\n",
       "      <td>1.147</td>\n",
       "      <td>L</td>\n",
       "    </tr>\n",
       "  </tbody>\n",
       "</table>\n",
       "</div>"
      ],
      "text/plain": [
       "                  t      v type\n",
       "0  2025-07-03 01:57  3.589    H\n",
       "1  2025-07-03 08:23  0.713    L\n",
       "2  2025-07-03 14:47  3.894    H\n",
       "3  2025-07-03 21:02  1.147    L"
      ]
     },
     "metadata": {},
     "output_type": "display_data"
    }
   ],
   "source": [
    "import requests\n",
    "import smtplib\n",
    "from email.mime.text import MIMEText\n",
    "from datetime import datetime\n",
    "import pandas as pd\n",
    "\n",
    "# NOAA Station ID\n",
    "STATION_ID = \"8534720\"\n",
    "\n",
    "# NOAA API endpoints\n",
    "TIDE_URL = (\n",
    "    f\"https://api.tidesandcurrents.noaa.gov/api/prod/datagetter?\"\n",
    "    f\"product=predictions&application=chatgpt-tide-app&begin_date=latest&\"\n",
    "    f\"end_date=latest&datum=MLLW&station={STATION_ID}&time_zone=lst_ldt&\"\n",
    "    f\"units=english&interval=hilo&format=json\"\n",
    ")\n",
    "\n",
    "TEMP_URL = (\n",
    "    f\"https://api.tidesandcurrents.noaa.gov/api/prod/datagetter?\"\n",
    "    f\"product=water_temperature&application=chatgpt-tide-app&station={STATION_ID}&\"\n",
    "    f\"date=latest&units=english&time_zone=lst_ldt&format=json\"\n",
    ")\n",
    "\n",
    "# Email config\n",
    "SMTP_SERVER = \"smtp.gmail.com\"\n",
    "SMTP_PORT = 587\n",
    "EMAIL_SENDER = \"your_email@gmail.com\"\n",
    "EMAIL_PASSWORD = \"your_app_password\"  # Use app password if using Gmail\n",
    "EMAIL_RECIPIENT = \"your_email@gmail.com\"\n",
    "\n",
    "\n",
    "def fetch_tide_data(station_id=\"8534720\", date= None):\n",
    "    if date is None:\n",
    "        date = datetime.now().strftime(\"%Y%m%d\")\n",
    "\n",
    "    # tide_url = (\n",
    "    #     f\"https://api.tidesandcurrents.noaa.gov/api/prod/datagetter?\"\n",
    "    #     f\"product=predictions&application=chatgpt-tide-app&begin_date={today}&\"\n",
    "    #     f\"end_date={today}&datum=MLLW&station={STATION_ID}&time_zone=lst_ldt&\"\n",
    "    #     f\"units=english&interval=hilo&format=json\"\n",
    "    # )\n",
    "    base_url = \"https://api.tidesandcurrents.noaa.gov/api/prod/datagetter\"\n",
    "\n",
    "    params = {\n",
    "        \"product\": \"predictions\",\n",
    "        \"application\": \"chatgpt-tide-app\",\n",
    "        \"begin_date\": date,\n",
    "        \"end_date\": date,\n",
    "        \"datum\": \"MLLW\",\n",
    "        \"station\": station_id,\n",
    "        \"time_zone\": \"lst_ldt\",\n",
    "        \"units\": \"english\",\n",
    "        \"interval\": \"hilo\",\n",
    "        \"format\": \"json\",\n",
    "    }\n",
    "\n",
    "    \n",
    "\n",
    "    response = requests.get(base_url, params=params)\n",
    "    response.raise_for_status()\n",
    "    data = response.json()\n",
    "\n",
    "    return data[\"predictions\"]\n",
    "\n",
    "\n",
    "def fetch_water_temp():\n",
    "    response = requests.get(TEMP_URL)\n",
    "    data = response.json()\n",
    "    return data[\"data\"][0][\"v\"] + \" °F\"\n",
    "\n",
    "\n",
    "def send_email(subject, body):\n",
    "    msg = MIMEText(body)\n",
    "    msg[\"Subject\"] = subject\n",
    "    msg[\"From\"] = EMAIL_SENDER\n",
    "    msg[\"To\"] = EMAIL_RECIPIENT\n",
    "\n",
    "    with smtplib.SMTP(SMTP_SERVER, SMTP_PORT) as server:\n",
    "        server.starttls()\n",
    "        server.login(EMAIL_SENDER, EMAIL_PASSWORD)\n",
    "        server.send_message(msg)\n",
    "\n",
    "print(fetch_water_temp())\n",
    "\n",
    "\n",
    "\n",
    "display( pd.DataFrame( fetch_tide_data()))"
   ]
  },
  {
   "cell_type": "code",
   "execution_count": null,
   "id": "ca9577bb",
   "metadata": {},
   "outputs": [],
   "source": []
  }
 ],
 "metadata": {
  "kernelspec": {
   "display_name": ".venv",
   "language": "python",
   "name": "python3"
  },
  "language_info": {
   "codemirror_mode": {
    "name": "ipython",
    "version": 3
   },
   "file_extension": ".py",
   "mimetype": "text/x-python",
   "name": "python",
   "nbconvert_exporter": "python",
   "pygments_lexer": "ipython3",
   "version": "3.11.2"
  }
 },
 "nbformat": 4,
 "nbformat_minor": 5
}
